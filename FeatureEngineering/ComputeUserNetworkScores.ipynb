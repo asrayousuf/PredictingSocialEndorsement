{
 "cells": [
  {
   "cell_type": "code",
   "execution_count": 37,
   "metadata": {},
   "outputs": [],
   "source": [
    "import pandas as pd\n",
    "import matplotlib.pyplot as plt\n",
    "import json\n",
    "import datetime\n",
    "from json import JSONDecoder\n",
    "import numpy as np\n"
   ]
  },
  {
   "cell_type": "code",
   "execution_count": 38,
   "metadata": {},
   "outputs": [],
   "source": [
    "score_dict = {}"
   ]
  },
  {
   "cell_type": "code",
   "execution_count": 39,
   "metadata": {},
   "outputs": [],
   "source": [
    " with open('yelp_dataset/yelp_academic_dataset_user.json') as input_file:\n",
    "        count=0\n",
    "        for user in input_file:\n",
    "            usr = json.loads(user)\n",
    "            total_votes = usr['useful'] + usr['funny'] + usr['cool']\n",
    "            if(usr['review_count'] == 0):\n",
    "                score =0\n",
    "            else:\n",
    "                score = total_votes/ usr['review_count']\n",
    "            score_dict[usr['user_id']] = round(score,3)\n",
    "f.close()"
   ]
  },
  {
   "cell_type": "code",
   "execution_count": 41,
   "metadata": {},
   "outputs": [],
   "source": [
    "with open('yelp_dataset/yelp_academic_dataset_user_score.json', 'w') as out:\n",
    "    with open('yelp_dataset/yelp_academic_dataset_user.json') as user_file:\n",
    "        count=0\n",
    "        for user in user_file:\n",
    "            usr = json.loads(user)\n",
    "            \n",
    "            yelp_join_dt = datetime.datetime.strptime(usr['yelping_since'],'%Y-%m-%d')\n",
    "            now = datetime.datetime.now()\n",
    "            usr['yelping_for'] = (now-yelp_join_dt).days / 365.25\n",
    "            \n",
    "            if(usr['elite']==\"None\"):\n",
    "                elite_count=0\n",
    "            else:\n",
    "                elite_count= len(usr['elite'].split(', '))\n",
    "            usr['elite_count'] = elite_count\n",
    "            \n",
    "            total_votes = usr['useful'] + usr['funny'] + usr['cool']\n",
    "            if(usr['review_count'] == 0):\n",
    "                score = 0\n",
    "            else:\n",
    "                score = total_votes/ usr['review_count']\n",
    "            usr['score'] = score\n",
    "            total_score=0\n",
    "            max_score = 0\n",
    "            if(usr['friends']!= \"None\"):\n",
    "                friends= usr['friends'].split(', ')\n",
    "                friend_count = len(friends)\n",
    "                usr['friend_count'] = friend_count\n",
    "                for friend in friends:\n",
    "                    if(friend in score_dict):\n",
    "                        total_score = total_score + score_dict[friend]\n",
    "                        max_score = max(max_score, score_dict[friend])\n",
    "                usr['avg_nw_score'] = total_score/friend_count\n",
    "                usr['max_nw_score'] = max_score\n",
    "            else:\n",
    "                usr['friend_count'] = 0\n",
    "                usr['avg_nw_score'] = 0\n",
    "                usr['max_nw_score'] = 0\n",
    "                \n",
    "            \n",
    "            json.dump(usr, out)\n",
    "            out.write(\"\\n\")"
   ]
  },
  {
   "cell_type": "code",
   "execution_count": null,
   "metadata": {},
   "outputs": [],
   "source": []
  }
 ],
 "metadata": {
  "kernelspec": {
   "display_name": "Python 3",
   "language": "python",
   "name": "python3"
  },
  "language_info": {
   "codemirror_mode": {
    "name": "ipython",
    "version": 3
   },
   "file_extension": ".py",
   "mimetype": "text/x-python",
   "name": "python",
   "nbconvert_exporter": "python",
   "pygments_lexer": "ipython3",
   "version": "3.6.6"
  }
 },
 "nbformat": 4,
 "nbformat_minor": 2
}
