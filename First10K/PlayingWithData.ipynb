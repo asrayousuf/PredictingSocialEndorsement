{
 "cells": [
  {
   "cell_type": "markdown",
   "metadata": {},
   "source": [
    "# Experiments with Dataset"
   ]
  },
  {
   "cell_type": "code",
   "execution_count": 1,
   "metadata": {},
   "outputs": [
    {
     "data": {
      "image/png": "[encoded data removed]",
      "text/plain": [
       "<matplotlib.figure.Figure at 0x1ea2f34eb00>"
      ]
     },
     "metadata": {},
     "output_type": "display_data"
    },
    {
     "name": "stdout",
     "output_type": "stream",
     "text": [
      "The number of reviews with a total count of 0 is: 5108\n",
      "The number of reviews with a total count of 1 is: 1851\n",
      "The number of reviews with a total count of 2 is: 1005\n",
      "The number of reviews with a total count of 3 is: 694\n",
      "The number of reviews with a total count of 4 is: 385\n",
      "The number of reviews with a total count of 5 is: 253\n",
      "The number of reviews with a total count of 6 is: 184\n",
      "The number of reviews with a total count of 7 is: 131\n",
      "The number of reviews with a total count of 8 is: 87\n",
      "The number of reviews with a total count of 9 is: 57\n",
      "The number of reviews with a total count of 10 is: 45\n",
      "The number of reviews with a total count of 11 is: 28\n",
      "The number of reviews with a total count of 12 is: 26\n",
      "The number of reviews with a total count of 13 is: 26\n",
      "The number of reviews with a total count of 14 is: 11\n",
      "The number of reviews with a total count of 15 is: 20\n",
      "The number of reviews with a total count of 16 is: 17\n",
      "The number of reviews with a total count of 17 is: 10\n",
      "The number of reviews with a total count of 18 is: 10\n",
      "The number of reviews with a total count of 19 is: 4\n",
      "The number of reviews with a total count of 20 is: 2\n",
      "The number of reviews with a total count of 21 is: 1\n",
      "The number of reviews with a total count of 22 is: 3\n",
      "The number of reviews with a total count of 23 is: 6\n",
      "The number of reviews with a total count of 24 is: 6\n",
      "The number of reviews with a total count of 25 is: 4\n",
      "The number of reviews with a total count of 26 is: 4\n",
      "The number of reviews with a total count of 27 is: 3\n",
      "The number of reviews with a total count of 29 is: 1\n",
      "The number of reviews with a total count of 30 is: 2\n",
      "The number of reviews with a total count of 32 is: 1\n",
      "The number of reviews with a total count of 33 is: 1\n",
      "The number of reviews with a total count of 34 is: 1\n",
      "The number of reviews with a total count of 36 is: 1\n",
      "The number of reviews with a total count of 37 is: 1\n",
      "The number of reviews with a total count of 40 is: 3\n",
      "The number of reviews with a total count of 45 is: 1\n",
      "The number of reviews with a total count of 47 is: 1\n",
      "The number of reviews with a total count of 53 is: 1\n",
      "The number of reviews with a total count of 55 is: 1\n",
      "The number of reviews with a total count of 56 is: 1\n",
      "The number of reviews with a total count of 70 is: 1\n",
      "The number of reviews with a total count of 130 is: 1\n",
      "The number of reviews with a total count of 106 is: 1\n"
     ]
    }
   ],
   "source": [
    "#Referenced https://matplotlib.org/api/_as_gen/matplotlib.pyplot.hist.html\n",
    "#Referenced https://pandas.pydata.org/pandas-docs/stable/generated/pandas.read_json.html\n",
    "#Referenced https://stackoverflow.com/questions/16958430/matplotlib-histograms-and-labels\n",
    "\n",
    "import numpy as np\n",
    "import pandas as pd\n",
    "import matplotlib\n",
    "import matplotlib.pyplot as plt\n",
    "\n",
    "%matplotlib inline\n",
    "\n",
    "totalCounts = []\n",
    "for i in range(51):\n",
    "    data = pd.read_json(\"ReviewData/yelp_academic_dataset_review\" + str(i+1) + \".json\") #Read the appropriate file\n",
    "    #So we can find the distribution of each count\n",
    "    usefulCounts = data[\"useful\"]\n",
    "    funnyCounts = data[\"funny\"]\n",
    "    coolCounts = data[\"cool\"]\n",
    "    #Get a total of all the counts:\n",
    "    for i in range(len(usefulCounts)):\n",
    "        totalCounts.append(usefulCounts[i] + funnyCounts[i] + coolCounts[i])\n",
    "\n",
    "plt.hist(totalCounts, bins=sorted(list(set(totalCounts))))\n",
    "plt.title(\"Distribution of Total Counts for First 10K Reviews\")\n",
    "plt.xlabel(\"Total Count Value\")\n",
    "plt.ylabel(\"Number of Reviews\")\n",
    "plt.show()\n",
    "\n",
    "allCounts = list(set(totalCounts))\n",
    "reviewsWithEachCount = dict()\n",
    "for i in allCounts:\n",
    "    reviewsWithEachCount[i] = 0\n",
    "\n",
    "for i in allCounts:\n",
    "    for j in totalCounts:\n",
    "        if (j == i):\n",
    "            reviewsWithEachCount[i] = reviewsWithEachCount[i] + 1\n",
    "\n",
    "for i in reviewsWithEachCount.keys():\n",
    "    print(\"The number of reviews with a total count of \" + str(i) + \" is: \" + str(reviewsWithEachCount[i]))"
   ]
  },
  {
   "cell_type": "code",
   "execution_count": 11,
   "metadata": {},
   "outputs": [
    {
     "name": "stdout",
     "output_type": "stream",
     "text": [
      "[3, 4, 5, 6, 7, 8, 9, 10, 11, 12, 13, 14, 15, 16, 17, 18, 19, 20, 21, 22, 23, 24, 25, 26, 27, 28, 29, 30, 31, 32, 33, 34, 35, 36, 37, 38, 39, 40, 41, 42, 43, 44, 45, 46, 47, 48, 49, 50, 51, 52, 53, 54, 55, 56, 57, 58, 59, 60, 61, 62, 63, 64, 65, 66, 67, 68, 69, 70, 71, 72, 73, 74, 75, 76, 77, 78, 79, 80, 81, 82, 83, 84, 85, 86, 87, 88, 89, 90, 91, 92, 93, 94, 95, 96, 97, 98, 99, 100, 101, 102, 103, 104, 105, 106, 107, 108, 109, 110, 111, 112, 113, 114, 115, 116, 117, 118, 119, 120, 121, 122, 123, 124, 125, 126, 127, 128, 129, 130, 131, 132, 133, 134, 135, 136, 137, 138, 139, 140, 141, 142, 143, 144, 145, 146, 147, 148, 149, 150, 151, 152, 153, 154, 155, 156, 157, 158, 159, 160, 161, 162, 163, 164, 165, 166, 167, 168, 169, 170, 171, 172, 173, 174, 175, 176, 177, 178, 179, 180, 181, 182, 183, 184, 185, 186, 187, 188, 189, 190, 191, 192, 193, 194, 195, 196, 197, 198, 199, 200, 201, 202, 203, 204, 205, 206, 207, 208, 209, 210, 211, 212, 213, 214, 215, 216, 217, 218, 219, 220, 221, 222, 223, 224, 225, 226, 227, 228, 229, 230, 231, 232, 233, 234, 235, 236, 237, 238, 239, 240, 241, 242, 243, 244, 245, 246, 247, 248, 249, 250, 251, 252, 253, 254, 255, 256, 257, 258, 259, 260, 261, 262, 263, 264, 265, 266, 267, 268, 269, 270, 271, 272, 273, 274, 275, 276, 277, 278, 279, 280, 281, 282, 283, 284, 285, 286, 287, 288, 289, 290, 291, 292, 293, 294, 295, 296, 297, 298, 299, 300, 301, 302, 303, 304, 305, 306, 307, 308, 309, 310, 311, 312, 313, 314, 315, 316, 317, 318, 319, 320, 321, 322, 323, 324, 325, 326, 327, 328, 329, 330, 331, 332, 333, 334, 335, 336, 337, 338, 339, 340, 341, 342, 343, 344, 345, 346, 347, 348, 349, 350, 351, 352, 353, 354, 355, 356, 357, 358, 359, 360, 361, 362, 363, 364, 365, 366, 367, 368, 369, 370, 371, 372, 373, 374, 375, 376, 377, 378, 379, 380, 381, 382, 383, 384, 385, 386, 387, 388, 389, 390, 391, 392, 393, 394, 395, 396, 397, 398, 399, 400, 401, 402, 403, 404, 405, 406, 407, 408, 409, 410, 411, 412, 413, 414, 415, 416, 417, 418, 419, 420, 421, 422, 424, 425, 426, 427, 428, 429, 430, 431, 432, 433, 434, 435, 436, 437, 438, 439, 440, 441, 442, 443, 444, 445, 446, 447, 448, 449, 450, 451, 452, 453, 454, 455, 456, 457, 458, 459, 460, 461, 462, 463, 464, 465, 466, 467, 468, 469, 470, 471, 472, 473, 474, 475, 476, 477, 478, 479, 480, 481, 482, 483, 484, 485, 486, 487, 488, 489, 490, 491, 492, 493, 494, 495, 496, 497, 498, 499, 500, 501, 502, 503, 504, 505, 506, 507, 508, 509, 510, 511, 512, 513, 514, 515, 516, 517, 518, 519, 520, 521, 522, 523, 524, 525, 526, 527, 528, 529, 530, 531, 532, 533, 534, 535, 536, 537, 538, 539, 541, 542, 543, 544, 545, 547, 548, 549, 551, 552, 553, 554, 555, 556, 557, 558, 559, 560, 561, 562, 564, 565, 566, 567, 568, 569, 571, 572, 573, 574, 575, 576, 577, 578, 579, 580, 581, 582, 583, 584, 585, 586, 587, 588, 589, 590, 591, 592, 593, 594, 595, 596, 597, 598, 599, 600, 601, 602, 603, 604, 605, 606, 607, 608, 609, 610, 611, 613, 615, 616, 617, 618, 619, 621, 622, 623, 624, 625, 626, 627, 628, 629, 630, 631, 632, 633, 634, 635, 636, 637, 638, 639, 641, 642, 643, 644, 645, 646, 648, 649, 650, 651, 652, 653, 654, 655, 658, 659, 660, 662, 663, 664, 665, 666, 668, 669, 670, 673, 674, 675, 677, 678, 681, 682, 683, 685, 686, 687, 688, 689, 690, 691, 692, 693, 695, 696, 698, 699, 703, 704, 706, 707, 708, 710, 711, 713, 714, 715, 718, 719, 721, 724, 726, 728, 729, 730, 731, 732, 733, 735, 737, 738, 739, 740, 741, 742, 743, 745, 747, 748, 751, 752, 753, 754, 755, 757, 759, 760, 761, 762, 763, 764, 765, 767, 768, 769, 770, 771, 772, 774, 776, 778, 781, 782, 783, 784, 785, 786, 788, 791, 792, 793, 794, 795, 797, 799, 800, 802, 803, 804, 805, 809, 810, 811, 812, 813, 814, 816, 818, 820, 821, 822, 823, 824, 826, 827, 829, 830, 832, 833, 834, 835, 836, 837, 838, 839, 840, 841, 843, 844, 845, 846, 848, 850, 851, 852, 853, 854, 855, 857, 858, 861, 866, 867, 868, 869, 870, 871, 873, 874, 875, 876, 877, 879, 880, 881, 883, 886, 888, 889, 892, 893, 895, 898, 899, 900, 901, 902, 904, 905, 906, 907, 912, 913, 916, 917, 920, 921, 922, 923, 925, 928, 931, 932, 935, 938, 940, 941, 943, 944, 948, 950, 951, 952, 953, 955, 956, 957, 960, 962, 963, 964, 966, 968, 971, 972, 974, 976, 977, 978, 979, 982, 983, 991, 998, 999, 1001, 1002, 1003, 1004, 1007, 1008, 1011, 1013, 1014, 1015, 1019, 1020, 1021, 1022, 1023, 1024, 1025, 1026, 1029, 1030, 1031, 1033, 1034, 1036, 1038, 1042, 1044, 1045, 1048, 1050, 1053, 1057, 1058, 1059, 1064, 1067, 1071, 1074, 1075, 1082, 1084, 1086, 1088, 1092, 1096, 1097, 1098, 1104, 1107, 1114, 1115, 1116, 1117, 1123, 1125, 1129, 1130, 1131, 1134, 1135, 1136, 1137, 1138, 1142, 1145, 1146, 1150, 1153, 1154, 1158, 1159, 1162, 1167, 1168, 1173, 1176, 1185, 1188, 1191, 1206, 1212, 1214, 1215, 1217, 1219, 1222, 1229, 1231, 1239, 1247, 1255, 1260, 1264, 1269, 1291, 1294, 1299, 1302, 1303, 1305, 1306, 1317, 1320, 1321, 1325, 1328, 1331, 1333, 1336, 1338, 1341, 1342, 1344, 1347, 1348, 1354, 1358, 1366, 1370, 1374, 1377, 1380, 1398, 1400, 1401, 1405, 1407, 1410, 1412, 1415, 1419, 1422, 1432, 1437, 1440, 1445, 1464, 1472, 1473, 1479, 1483, 1488, 1489, 1492, 1514, 1519, 1540, 1541, 1546, 1552, 1553, 1556, 1557, 1564, 1565, 1577, 1579, 1585, 1589, 1590, 1617, 1629, 1635, 1658, 1672, 1677, 1697, 1698, 1708, 1720, 1722, 1728, 1732, 1733, 1746, 1750, 1755, 1768, 1784, 1806, 1808, 1814, 1816, 1819, 1821, 1830, 1837, 1850, 1853, 1866, 1867, 1869, 1880, 1883, 1884, 1918, 1923, 1941, 1958, 1963, 1982, 2034, 2064, 2087, 2097, 2117, 2130, 2132, 2138, 2155, 2160, 2161, 2169, 2175, 2185, 2187, 2197, 2246, 2259, 2267, 2269, 2313, 2321, 2349, 2377, 2388, 2391, 2395, 2462, 2499, 2523, 2596, 2617, 2627, 2639, 2666, 2670, 2733, 2735, 2818, 2850, 2880, 2887, 2898, 2909, 2915, 2937, 3003, 3025, 3030, 3048, 3160, 3193, 3241, 3244, 3250, 3329, 3481, 3730, 3731, 3743, 3890, 3905, 3975, 4041, 4078, 4091, 4097, 4240, 4981, 5382, 5472, 6446, 7866, 7968]\n"
     ]
    }
   ],
   "source": [
    "businessData = pd.read_json(\"YelpData/yelp_academic_dataset_business.json\", lines=True)\n",
    "print(sorted(set(businessData[\"review_count\"])))"
   ]
  },
  {
   "cell_type": "code",
   "execution_count": null,
   "metadata": {
    "collapsed": true
   },
   "outputs": [],
   "source": [
    "print(sorted(set(businessData[\"review_count\"])))"
   ]
  },
  {
   "cell_type": "code",
   "execution_count": 3,
   "metadata": {},
   "outputs": [
    {
     "name": "stdout",
     "output_type": "stream",
     "text": [
      "     cool funny                                               text useful  \\\n",
      "0       0     0  The pizza was okay. Not the best I've had. I p...      0   \n",
      "1       0     0  I love this place! My fiance And I go here atl...      0   \n",
      "2       1     1  Terrible. Dry corn bread. Rib tips were all fa...      3   \n",
      "3       0     0  Back in 2005-2007 this place was my FAVORITE t...      2   \n",
      "4       0     0  Delicious healthy food. The steak is amazing. ...      0   \n",
      "5       0     0  This place sucks. The customer service is horr...      2   \n",
      "6       0     0  If you like Thai food, you have to try the ori...      1   \n",
      "7       0     1  AMAZING!!!\\n\\n I was referred here by a friend...      0   \n",
      "8       0     0  Ribs = amazing\\n2 hour wait time= not so amazi...      0   \n",
      "9       1     2  Food is pretty good, not gonna lie. BUT you ha...      1   \n",
      "10      0     0  I have been an Emerald Club member for a numbe...      0   \n",
      "11      0     0  The score should be negative. Its HORRIBLE. Th...      0   \n",
      "12      0     0  I went there twice and I am pretty happy with ...      0   \n",
      "13      0     0  Great for the price, only $25 for long hair! W...      1   \n",
      "14      0     0  Sansotei serves some top notch ramen. They tak...      0   \n",
      "15      0     0  Of the several places to get bagels in Oakland...      0   \n",
      "16      0     0  Cool little place, nice atmosphere and staff. ...      0   \n",
      "17      0     0  Delicious, friendly staff, cool atmosphere, al...      0   \n",
      "18      1     1  Great haircut, cool atmosphere, and really nic...      1   \n",
      "19      0     0  Finally! After trying many Mexican restaurants...      0   \n",
      "20      0     0  One of the best breakfast places I've been to!...      0   \n",
      "21      0     0  Food was alright, the service was HORRIBLE! Bo...      1   \n",
      "22      0     0  DELICIOUS! forgot to take a before picture but...      0   \n",
      "23      0     1  If I could leave zero stars I would. This rude...      4   \n",
      "24      0     0  Removed several pine trees from our house in H...      0   \n",
      "25      0     0  I have to write a review on the Fractured Prun...      0   \n",
      "26      0     0  I wish i could tell you all about the food but...      1   \n",
      "27      0     0  Wonderful! One of my favorite places. BBQ is e...      0   \n",
      "28      0     0  The price is about the same as Quizinos. The s...      0   \n",
      "29      0     0  The food was ok. You get a lot of food for the...      0   \n",
      "...   ...   ...                                                ...    ...   \n",
      "9970    0     0  This is only my 2nd time writing a review on y...      4   \n",
      "9971    0     0  We are so happy we found Dr. Bybee!  Him and h...      0   \n",
      "9972    0     0  Today was my first time trying Parsley's.  I h...      0   \n",
      "9973    0     0  Our experience at the Rio Hotel in Las Vegas\\n...      0   \n",
      "9974    0     0  Do I think Camp Bow Wow \"abuses\" dogs? Well, \"...      1   \n",
      "9975    0     0  The best cinnamon rolls ever also great select...      0   \n",
      "9976    0     0  love this place emily sasha and warren are gre...      0   \n",
      "9977    0     0  What an amazing experience, my family and frie...      0   \n",
      "9978    0     0  This hospital has no clue. Poor staffing. My k...      2   \n",
      "9979    0     0  Top notch service EXCELLENT pricing and very l...      0   \n",
      "9980    0     0  This is the 5th car I have purchased/leased wi...      0   \n",
      "9981    0     0  I was truly disappointed today with  this stor...      0   \n",
      "9982    2     2  Awesome food and excellent service. Jaenica wa...      2   \n",
      "9983    0     0  good food, but if you order To Go, especially ...      0   \n",
      "9984    0     0  Had an amazing time the whole night! Amanda wa...      0   \n",
      "9985    0     0  First off, this was the second time my party h...      1   \n",
      "9986    2     0  4 out of 5 times could not serve the Dosa. Als...      0   \n",
      "9987    0     0  We had a great time. Would see it again. In so...      0   \n",
      "9988    0     0  Big fabulous tasting french macaroons. Very ad...      0   \n",
      "9989    0     0  Lee Lee's is a fine store with a lot of variet...      1   \n",
      "9990    0     0  Rolled tacos = divine experience. So much bang...      0   \n",
      "9991    0     0  The food here is really good. They somehow mak...      0   \n",
      "9992    0     0  Yummy food! Great all day happy hour and the s...      0   \n",
      "9993    0     0  Really awesome tacos. The Al Pastor is my #1. ...      0   \n",
      "9994    0     0  I miss you since we moved an hour away, but we...      1   \n",
      "9995    0     0  This is my favorite place for sushi! Heck,this...      0   \n",
      "9996    2     8  This place made me sick.\\n\\nNo, no, not like t...      3   \n",
      "9997    0     0  This store is bright and clean, the prices are...      1   \n",
      "9998    0     1  My favorite Korean place.  My ONLY Korean plac...      0   \n",
      "9999    0     2  Get the pork belly buns. \\nDid you get that?\\n...      1   \n",
      "\n",
      "     Total Influential  \n",
      "0        0       False  \n",
      "1        0       False  \n",
      "2        5       False  \n",
      "3        2       False  \n",
      "4        0       False  \n",
      "5        2       False  \n",
      "6        1       False  \n",
      "7        1       False  \n",
      "8        0       False  \n",
      "9        4       False  \n",
      "10       0       False  \n",
      "11       0       False  \n",
      "12       0       False  \n",
      "13       1       False  \n",
      "14       0       False  \n",
      "15       0       False  \n",
      "16       0       False  \n",
      "17       0       False  \n",
      "18       3       False  \n",
      "19       0       False  \n",
      "20       0       False  \n",
      "21       1       False  \n",
      "22       0       False  \n",
      "23       5       False  \n",
      "24       0       False  \n",
      "25       0       False  \n",
      "26       1       False  \n",
      "27       0       False  \n",
      "28       0       False  \n",
      "29       0       False  \n",
      "...    ...         ...  \n",
      "9970     4       False  \n",
      "9971     0       False  \n",
      "9972     0       False  \n",
      "9973     0       False  \n",
      "9974     1       False  \n",
      "9975     0       False  \n",
      "9976     0       False  \n",
      "9977     0       False  \n",
      "9978     2       False  \n",
      "9979     0       False  \n",
      "9980     0       False  \n",
      "9981     0       False  \n",
      "9982     6       False  \n",
      "9983     0       False  \n",
      "9984     0       False  \n",
      "9985     1       False  \n",
      "9986     2       False  \n",
      "9987     0       False  \n",
      "9988     0       False  \n",
      "9989     1       False  \n",
      "9990     0       False  \n",
      "9991     0       False  \n",
      "9992     0       False  \n",
      "9993     0       False  \n",
      "9994     1       False  \n",
      "9995     0       False  \n",
      "9996    13       False  \n",
      "9997     1       False  \n",
      "9998     1       False  \n",
      "9999     3       False  \n",
      "\n",
      "[10000 rows x 6 columns]\n"
     ]
    }
   ],
   "source": [
    "#Referenced https://pandas.pydata.org/pandas-docs/stable/indexing.html\n",
    "#Referenced https://stackoverflow.com/questions/14639496/python-numpy-array-of-arbitrary-length-strings\n",
    "#Referenced https://docs.python.org/3/tutorial/datastructures.html\n",
    "#Referenced http://pandas.pydata.org/pandas-docs/stable/generated/pandas.DataFrame.html#pandas.DataFrame\n",
    "\n",
    "%matplotlib inline\n",
    "\n",
    "data = pd.read_json(\"ReviewData/yelp_academic_dataset_review1.json\") #Read the appropriate file\n",
    "\n",
    "#Create a list of useful columns\n",
    "columns = list(data.columns)\n",
    "columns.remove(\"business_id\")\n",
    "columns.remove(\"user_id\")\n",
    "columns.remove(\"review_id\")\n",
    "columns.remove(\"stars\")\n",
    "columns.remove(\"date\")\n",
    "\n",
    "trainData = np.ndarray(shape=(10000,len(columns)+2), dtype=object) #Include all given data, plus our classes\n",
    "offset = 0 #This is used to make sure we don't overwrite arrays\n",
    "threshold = 15 #Given review r with total count k, if k <= threshold, r is not influential\n",
    "\n",
    "for i in range(51):\n",
    "    data = pd.read_json(\"ReviewData/yelp_academic_dataset_review\" + str(i+1) + \".json\") #Read the appropriate file)\n",
    "    #So we can find the distribution of each count\n",
    "    usefulCounts = data[\"useful\"]\n",
    "    funnyCounts = data[\"funny\"]\n",
    "    coolCounts = data[\"cool\"]\n",
    "    #Now we create training data:\n",
    "    for j in range(len(usefulCounts)):\n",
    "        #First get the total count (which we want):\n",
    "        total = usefulCounts[j] + funnyCounts[j] + coolCounts[j]\n",
    "        for k in range(len(columns)): #Copy all existing data\n",
    "            trainData[j+offset,k] = data.loc[j,columns[k]]\n",
    "            \n",
    "        trainData[j+offset,len(columns)] = total #Now record the total count\n",
    "        \n",
    "        #Classify by total count:\n",
    "        if (total <= threshold): #If in the class of less influential reviews\n",
    "            trainData[j+offset,len(columns)+1] = False\n",
    "        else:\n",
    "            trainData[j+offset,len(columns)+1] = True\n",
    "            \n",
    "    #Update offset so as to not overwrite data:\n",
    "    offset = offset + len(usefulCounts)\n",
    "\n",
    "#Now prepare the final dataframe by first prepping the columns\n",
    "listOfFinalCols = columns.copy()\n",
    "listOfFinalCols.append(\"Total\")\n",
    "listOfFinalCols.append(\"Influential\")\n",
    "\n",
    "trainData = pd.DataFrame(data=trainData, columns=listOfFinalCols, dtype=object)\n",
    "#Now we've got training data for what we want to do!\n",
    "\n",
    "print(trainData)"
   ]
  },
  {
   "cell_type": "markdown",
   "metadata": {},
   "source": [
    "### Bag of Words Experiments"
   ]
  },
  {
   "cell_type": "code",
   "execution_count": 4,
   "metadata": {},
   "outputs": [],
   "source": [
    "#Referenced http://scikit-learn.org/stable/modules/generated/sklearn.feature_extraction.text.CountVectorizer.html\n",
    "%matplotlib inline\n",
    "import sklearn.feature_extraction.text as txt\n",
    "import copy\n",
    "\n",
    "#In a bag of words, it makes sense to remove stopwords (as those are too common) and remove punctuation, as we are\n",
    "#looking mainly for the words, not random punctuation signs.\n",
    "#We remove these things from the text as well.\n",
    "\n",
    "text = trainData[\"text\"]\n",
    "\n",
    "for word in text[i].split(): #Every temp[i] is a sentence\n",
    "    for char in word:\n",
    "        if char in [\".\", \"?\", \",\"]:\n",
    "            text[i] = text[i].replace(char, \"\")\n",
    "                    \n",
    "wordsVect = txt.CountVectorizer(stop_words=\"english\")\n",
    "bagOfWordsTrain = wordsVect.fit_transform(text)"
   ]
  },
  {
   "cell_type": "markdown",
   "metadata": {},
   "source": [
    "### Naive Bayes for First 5k Reviews Using Bag of Words"
   ]
  },
  {
   "cell_type": "code",
   "execution_count": 14,
   "metadata": {},
   "outputs": [
    {
     "name": "stdout",
     "output_type": "stream",
     "text": [
      "So the accuracy on the first 5k reviews is: 0.9766\n",
      "So the precision on the first 5k reviews is: 0.311764705882\n",
      "So the recall on the first 5k reviews is: 1.0\n"
     ]
    }
   ],
   "source": [
    "#Referenced http://scikit-learn.org/stable/modules/generated/sklearn.model_selection.cross_val_score.html\n",
    "#Referenced http://scikit-learn.org/stable/modules/generated/sklearn.naive_bayes.GaussianNB.html\n",
    "#Referenced http://scikit-learn.org/stable/modules/generated/sklearn.metrics.confusion_matrix.html\n",
    "\n",
    "%matplotlib inline\n",
    "from sklearn.naive_bayes import GaussianNB\n",
    "from sklearn.model_selection import cross_val_score\n",
    "from sklearn.preprocessing import LabelBinarizer\n",
    "from sklearn.metrics import confusion_matrix\n",
    "\n",
    "#Binarize the labels to more clearly define True positives and True negatives\n",
    "binarizer = LabelBinarizer(neg_label=False, pos_label=True)\n",
    "binarizer.fit(list(trainData[\"Influential\"]))\n",
    "newTargets = np.ndarray.flatten(binarizer.transform(list(trainData[\"Influential\"])))\n",
    "\n",
    "#Do a single fit on first 5k reviews\n",
    "naiveBayes = GaussianNB()\n",
    "naiveBayes.fit(bagOfWordsTrain.toarray(), newTargets)\n",
    "pred = naiveBayes.predict(bagOfWordsTrain.toarray()[:5000])\n",
    "trueNeg, falsePos, falseNeg, truePos = confusion_matrix(newTargets[:5000], pred).ravel()\n",
    "print(\"So the accuracy on the first 5k reviews is: \" + str(float(truePos+trueNeg)/(trueNeg+falsePos+falseNeg+truePos)))\n",
    "print(\"So the precision on the first 5k reviews is: \" + str(float(truePos)/(falsePos+truePos)))\n",
    "print(\"So the recall on the first 5k reviews is: \" + str(float(truePos)/(falseNeg+truePos)))\n",
    "\n",
    "#Get some feedback\n",
    "# print (\"Using 5-fold cross validation, we get the following accuracy scores: \")\n",
    "# print (cross_val_score(estimator=naiveBayes, X=bagOfWordsTrain.toarray()[5000:], y=newTargets[5000:], cv=5))\n",
    "\n",
    "# print (\"Using 5-fold cross validation, we get the following precision scores: \")\n",
    "# print (cross_val_score(estimator=naiveBayes, X=bagOfWordsTrain.toarray()[5000:], y=newTargets[5000:], cv=5, scoring=\"precision\"))\n",
    "\n",
    "# print (\"Using 5-fold cross validation, we get the following recall scores: \")\n",
    "# print (cross_val_score(estimator=naiveBayes, X=bagOfWordsTrain.toarray()[5000:], y=newTargets[5000:], cv=5, scoring=\"recall\"))"
   ]
  },
  {
   "cell_type": "markdown",
   "metadata": {
    "collapsed": true
   },
   "source": [
    "### Naive Bayes Using Last 5k Reviews Using Bag of Words"
   ]
  },
  {
   "cell_type": "code",
   "execution_count": 15,
   "metadata": {},
   "outputs": [
    {
     "name": "stdout",
     "output_type": "stream",
     "text": [
      "So the accuracy on the second 5k reviews is: 0.973\n",
      "So the precision on the second 5k reviews is: 0.210526315789\n",
      "So the recall on the second 5k reviews is: 1.0\n"
     ]
    }
   ],
   "source": [
    "pred = naiveBayes.predict(bagOfWordsTrain.toarray()[5000:])\n",
    "trueNeg, falsePos, falseNeg, truePos = confusion_matrix(newTargets[5000:], pred).ravel()\n",
    "print(\"So the accuracy on the second 5k reviews is: \" + str(float(truePos+trueNeg)/(trueNeg+falsePos+falseNeg+truePos)))\n",
    "print(\"So the precision on the second 5k reviews is: \" + str(float(truePos)/(falsePos+truePos)))\n",
    "print(\"So the recall on the second 5k reviews is: \" + str(float(truePos)/(falseNeg+truePos)))"
   ]
  },
  {
   "cell_type": "markdown",
   "metadata": {},
   "source": [
    "### Random Forest for First 5k Reviews Using Bag of Words"
   ]
  },
  {
   "cell_type": "code",
   "execution_count": 16,
   "metadata": {},
   "outputs": [
    {
     "name": "stdout",
     "output_type": "stream",
     "text": [
      "So the accuracy on the first 5k reviews is: 0.998\n",
      "So the precision on the first 5k reviews is: 1.0\n",
      "So the recall on the first 5k reviews is: 0.811320754717\n"
     ]
    }
   ],
   "source": [
    "#Referenced http://scikit-learn.org/stable/modules/generated/sklearn.ensemble.RandomForestClassifier.html\n",
    "#Referenced http://scikit-learn.org/stable/modules/generated/sklearn.metrics.confusion_matrix.html\n",
    "#Referenced http://scikit-learn.org/stable/modules/generated/sklearn.model_selection.cross_val_score.html\n",
    "\n",
    "from sklearn.ensemble import RandomForestClassifier\n",
    "from sklearn.model_selection import cross_val_score\n",
    "from sklearn.preprocessing import LabelBinarizer\n",
    "from sklearn.metrics import confusion_matrix\n",
    "\n",
    "#Binarize the labels to more clearly define True positives and True negatives\n",
    "binarizer = LabelBinarizer(neg_label=False, pos_label=True)\n",
    "binarizer.fit(list(trainData[\"Influential\"]))\n",
    "newTargets = np.ndarray.flatten(binarizer.transform(list(trainData[\"Influential\"])))\n",
    "\n",
    "#Do a single fit on first 5k reviews\n",
    "forest = RandomForestClassifier()\n",
    "forest.fit(bagOfWordsTrain.toarray(), newTargets)\n",
    "pred = forest.predict(bagOfWordsTrain.toarray()[:5000])\n",
    "trueNeg, falsePos, falseNeg, truePos = confusion_matrix(newTargets[:5000], pred).ravel()\n",
    "print(\"So the accuracy on the first 5k reviews is: \" + str(float(truePos+trueNeg)/(trueNeg+falsePos+falseNeg+truePos)))\n",
    "print(\"So the precision on the first 5k reviews is: \" + str(float(truePos)/(falsePos+truePos)))\n",
    "print(\"So the recall on the first 5k reviews is: \" + str(float(truePos)/(falseNeg+truePos)))"
   ]
  },
  {
   "cell_type": "markdown",
   "metadata": {},
   "source": [
    "### Random Forest for Last 5k Reviews Using Bag of Words"
   ]
  },
  {
   "cell_type": "code",
   "execution_count": 17,
   "metadata": {},
   "outputs": [
    {
     "name": "stdout",
     "output_type": "stream",
     "text": [
      "So the accuracy on the second 5k reviews is: 0.9976\n",
      "So the precision on the second 5k reviews is: 1.0\n",
      "So the recall on the second 5k reviews is: 0.666666666667\n"
     ]
    }
   ],
   "source": [
    "pred = forest.predict(bagOfWordsTrain.toarray()[5000:])\n",
    "trueNeg, falsePos, falseNeg, truePos = confusion_matrix(newTargets[5000:], pred).ravel()\n",
    "print(\"So the accuracy on the second 5k reviews is: \" + str(float(truePos+trueNeg)/(trueNeg+falsePos+falseNeg+truePos)))\n",
    "print(\"So the precision on the second 5k reviews is: \" + str(float(truePos)/(falsePos+truePos)))\n",
    "print(\"So the recall on the second 5k reviews is: \" + str(float(truePos)/(falseNeg+truePos)))"
   ]
  },
  {
   "cell_type": "markdown",
   "metadata": {},
   "source": [
    "### Logistic Regression for First 5k Reviews Using Bag of Words"
   ]
  },
  {
   "cell_type": "code",
   "execution_count": 18,
   "metadata": {},
   "outputs": [
    {
     "name": "stdout",
     "output_type": "stream",
     "text": [
      "So the accuracy on the first 5k reviews is: 0.999\n",
      "So the precision on the first 5k reviews is: 1.0\n",
      "So the recall on the first 5k reviews is: 0.905660377358\n"
     ]
    }
   ],
   "source": [
    "#Referenced http://scikit-learn.org/stable/modules/generated/sklearn.linear_model.LogisticRegression.html\n",
    "#Referenced http://scikit-learn.org/stable/modules/generated/sklearn.metrics.confusion_matrix.html\n",
    "#Referenced http://scikit-learn.org/stable/modules/generated/sklearn.model_selection.cross_val_score.html\n",
    "\n",
    "from sklearn.linear_model import LogisticRegression\n",
    "from sklearn.model_selection import cross_val_score\n",
    "from sklearn.preprocessing import LabelBinarizer\n",
    "from sklearn.metrics import confusion_matrix\n",
    "\n",
    "#Binarize the labels to more clearly define True positives and True negatives\n",
    "binarizer = LabelBinarizer(neg_label=False, pos_label=True)\n",
    "binarizer.fit(list(trainData[\"Influential\"]))\n",
    "newTargets = np.ndarray.flatten(binarizer.transform(list(trainData[\"Influential\"])))\n",
    "\n",
    "#Do a single fit on first 5k reviews\n",
    "regr = LogisticRegression()\n",
    "regr.fit(bagOfWordsTrain.toarray(), newTargets)\n",
    "pred = regr.predict(bagOfWordsTrain.toarray()[:5000])\n",
    "trueNeg, falsePos, falseNeg, truePos = confusion_matrix(newTargets[:5000], pred).ravel()\n",
    "print(\"So the accuracy on the first 5k reviews is: \" + str(float(truePos+trueNeg)/(trueNeg+falsePos+falseNeg+truePos)))\n",
    "print(\"So the precision on the first 5k reviews is: \" + str(float(truePos)/(falsePos+truePos)))\n",
    "print(\"So the recall on the first 5k reviews is: \" + str(float(truePos)/(falseNeg+truePos)))"
   ]
  },
  {
   "cell_type": "markdown",
   "metadata": {},
   "source": [
    "### Logistic Regression for Last 5k Reviews Using Bag of Words"
   ]
  },
  {
   "cell_type": "code",
   "execution_count": 19,
   "metadata": {},
   "outputs": [
    {
     "name": "stdout",
     "output_type": "stream",
     "text": [
      "So the accuracy on the second 5k reviews is: 0.999\n",
      "So the precision on the second 5k reviews is: 1.0\n",
      "So the recall on the second 5k reviews is: 0.861111111111\n"
     ]
    }
   ],
   "source": [
    "pred = regr.predict(bagOfWordsTrain.toarray()[5000:])\n",
    "trueNeg, falsePos, falseNeg, truePos = confusion_matrix(newTargets[5000:], pred).ravel()\n",
    "print(\"So the accuracy on the second 5k reviews is: \" + str(float(truePos+trueNeg)/(trueNeg+falsePos+falseNeg+truePos)))\n",
    "print(\"So the precision on the second 5k reviews is: \" + str(float(truePos)/(falsePos+truePos)))\n",
    "print(\"So the recall on the second 5k reviews is: \" + str(float(truePos)/(falseNeg+truePos)))"
   ]
  },
  {
   "cell_type": "markdown",
   "metadata": {},
   "source": [
    "### SVM for First 5k Reviews Using Bag of Words"
   ]
  },
  {
   "cell_type": "code",
   "execution_count": 21,
   "metadata": {},
   "outputs": [
    {
     "name": "stdout",
     "output_type": "stream",
     "text": [
      "So the accuracy on the first 5k reviews is: 1.0\n",
      "So the precision on the first 5k reviews is: 1.0\n",
      "So the recall on the first 5k reviews is: 1.0\n"
     ]
    }
   ],
   "source": [
    "#Referenced http://scikit-learn.org/stable/modules/generated/sklearn.svm.SVC.html\n",
    "#Referenced http://scikit-learn.org/stable/modules/generated/sklearn.metrics.confusion_matrix.html\n",
    "#Referenced http://scikit-learn.org/stable/modules/generated/sklearn.model_selection.cross_val_score.html\n",
    "\n",
    "from sklearn.svm import SVC\n",
    "from sklearn.model_selection import cross_val_score\n",
    "from sklearn.preprocessing import LabelBinarizer\n",
    "from sklearn.metrics import confusion_matrix\n",
    "\n",
    "#Binarize the labels to more clearly define True positives and True negatives\n",
    "binarizer = LabelBinarizer(neg_label=False, pos_label=True)\n",
    "binarizer.fit(list(trainData[\"Influential\"]))\n",
    "newTargets = np.ndarray.flatten(binarizer.transform(list(trainData[\"Influential\"])))\n",
    "\n",
    "#Do a single fit on first 5k reviews\n",
    "suppVecMach = SVC(kernel=\"linear\") #Since linear decision boundaries have clearly worked well so far\n",
    "suppVecMach.fit(bagOfWordsTrain.toarray(), newTargets)\n",
    "pred = suppVecMach.predict(bagOfWordsTrain.toarray()[:5000])\n",
    "trueNeg, falsePos, falseNeg, truePos = confusion_matrix(newTargets[:5000], pred).ravel()\n",
    "print(\"So the accuracy on the first 5k reviews is: \" + str(float(truePos+trueNeg)/(trueNeg+falsePos+falseNeg+truePos)))\n",
    "print(\"So the precision on the first 5k reviews is: \" + str(float(truePos)/(falsePos+truePos)))\n",
    "print(\"So the recall on the first 5k reviews is: \" + str(float(truePos)/(falseNeg+truePos)))"
   ]
  },
  {
   "cell_type": "markdown",
   "metadata": {},
   "source": [
    "### SVM For Last 5k Reviews Using Bag of Words"
   ]
  },
  {
   "cell_type": "code",
   "execution_count": 22,
   "metadata": {},
   "outputs": [
    {
     "name": "stdout",
     "output_type": "stream",
     "text": [
      "So the accuracy on the first 5k reviews is: 1.0\n",
      "So the precision on the first 5k reviews is: 1.0\n",
      "So the recall on the first 5k reviews is: 1.0\n"
     ]
    }
   ],
   "source": [
    "pred = suppVecMach.predict(bagOfWordsTrain.toarray()[5000:])\n",
    "trueNeg, falsePos, falseNeg, truePos = confusion_matrix(newTargets[5000:], pred).ravel()\n",
    "print(\"So the accuracy on the second 5k reviews is: \" + str(float(truePos+trueNeg)/(trueNeg+falsePos+falseNeg+truePos)))\n",
    "print(\"So the precision on the second 5k reviews is: \" + str(float(truePos)/(falsePos+truePos)))\n",
    "print(\"So the recall on the second 5k reviews is: \" + str(float(truePos)/(falseNeg+truePos)))"
   ]
  },
  {
   "cell_type": "code",
   "execution_count": null,
   "metadata": {
    "collapsed": true
   },
   "outputs": [],
   "source": []
  }
 ],
 "metadata": {
  "kernelspec": {
   "display_name": "Python 3",
   "language": "python",
   "name": "python3"
  },
  "language_info": {
   "codemirror_mode": {
    "name": "ipython",
    "version": 3
   },
   "file_extension": ".py",
   "mimetype": "text/x-python",
   "name": "python",
   "nbconvert_exporter": "python",
   "pygments_lexer": "ipython3",
   "version": "3.6.1"
  }
 },
 "nbformat": 4,
 "nbformat_minor": 2
}
